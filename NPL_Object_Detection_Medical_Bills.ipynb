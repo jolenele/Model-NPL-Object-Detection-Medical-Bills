{
  "nbformat": 4,
  "nbformat_minor": 0,
  "metadata": {
    "colab": {
      "provenance": [],
      "toc_visible": true,
      "authorship_tag": "ABX9TyNAfCCXc4BNOjdF7BTpa/xA",
      "include_colab_link": true
    },
    "kernelspec": {
      "name": "python3",
      "display_name": "Python 3"
    },
    "language_info": {
      "name": "python"
    }
  },
  "cells": [
    {
      "cell_type": "markdown",
      "metadata": {
        "id": "view-in-github",
        "colab_type": "text"
      },
      "source": [
        "<a href=\"https://colab.research.google.com/github/jolenele/Model-NPL-Object-Detection-Medical-Bills/blob/main/NPL_Object_Detection_Medical_Bills.ipynb\" target=\"_parent\"><img src=\"https://colab.research.google.com/assets/colab-badge.svg\" alt=\"Open In Colab\"/></a>"
      ]
    },
    {
      "cell_type": "markdown",
      "source": [
        "CS 663 - Computer Vision"
      ],
      "metadata": {
        "id": "Y5H8Ns6IUd_X"
      }
    },
    {
      "cell_type": "markdown",
      "source": [
        "## **Object Dection - Medical Bills**"
      ],
      "metadata": {
        "id": "qjwx-SYtUmLO"
      }
    },
    {
      "cell_type": "markdown",
      "source": [
        "## Step 1 - Setup environment"
      ],
      "metadata": {
        "id": "kLzKpKnNU6rf"
      }
    },
    {
      "cell_type": "code",
      "source": [],
      "metadata": {
        "id": "6NBLp5YoU5-W"
      },
      "execution_count": null,
      "outputs": []
    },
    {
      "cell_type": "code",
      "execution_count": null,
      "metadata": {
        "id": "6TUJrPsvUcPl"
      },
      "outputs": [],
      "source": []
    }
  ]
}